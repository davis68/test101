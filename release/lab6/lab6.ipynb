{
 "cells": [
  {
   "cell_type": "markdown",
   "metadata": {},
   "source": [
    "# Lab 6—“Kind of Blue”"
   ]
  },
  {
   "cell_type": "markdown",
   "metadata": {},
   "source": [
    "<table>\n",
    "<tr><td>\n",
    "<img src=\"http://www.benmichel.com/wp-content/uploads/2015/01/BLINDWILLIEJOHNSONimg.jpg\" />\n",
    "</td><td>\n",
    "For this lab project, we are going to work with a list of blues musicians in various traditions.  You should have the following files already in your `lab6` directory:\n",
    "    \n",
    "    lab6.txt\n",
    "    process.py\n",
    "    blues.txt\n",
    "    zydeco.txt\n",
    "\n",
    "Open the file `blues.txt` in a text editor and examine its format.\n",
    "</td>\n",
    "</tr>\n",
    "</table>\n",
    "    # Delta Blues\n",
    "    Cecil Augusta\n",
    "    Mose Allison\n",
    "    Tommy Bankhead\n",
    "    ...\n",
    "    Elder Roma Wilson\n",
    "    \n",
    "    # Chicago Blues\n",
    "    Alberta Adams\n",
    "    Luther Allison\n",
    "    ...\n",
    "\n",
    "We are going to `read` this file and run it through the standard pipeline of data analysis:  data cleaning and preparation, data processing, and output.\n"
   ]
  },
  {
   "cell_type": "markdown",
   "metadata": {},
   "source": [
    "If you have a line of text as a string:\n",
    "\n",
    "    example = 'Jimmy Clanton'\n",
    "    \n",
    "and you'd like to turn it into a tuple `record = (surname, first_name)`, how would you do it?\n",
    "\n",
    "First, you'd probably want to split it into pieces so there is a separate `first_name` and `surname` to assign:\n",
    "\n",
    "    names = example.split(' ')\n",
    "\n",
    "Now you have a `list` called `names` which looks like this:\n",
    "\n",
    "    ['Jimmy', 'Clanton']\n",
    "\n",
    "which you can use to assign the separate variables in your tuple either in two steps:\n",
    "\n",
    "    surname = names[1]\n",
    "    first_name = names[0]\n",
    "    record = (surname, first_name)\n",
    "\n",
    "or in one step:\n",
    "\n",
    "    record = (names[1], names[0])\n",
    "\n",
    "This gets a little trickier with multiple first names:\n",
    "\n",
    "    example = 'John Henry Barbee'\n",
    "\n",
    "In this case, I suggest the following method.  First, split the name into its pieces like this:"
   ]
  },
  {
   "cell_type": "code",
   "execution_count": null,
   "metadata": {
    "collapsed": false
   },
   "outputs": [],
   "source": [
    "names = example.split(' ')"
   ]
  },
  {
   "cell_type": "code",
   "execution_count": null,
   "metadata": {
    "collapsed": true,
    "deletable": false,
    "nbgrader": {
     "checksum": "39ca995a0cf9fe8b6bd6bca14fd73274",
     "grade": false,
     "grade_id": "process",
     "locked": false,
     "solution": true
    }
   },
   "outputs": [],
   "source": [
    "# YOUR CODE HERE\n",
    "raise NotImplementedError()"
   ]
  },
  {
   "cell_type": "code",
   "execution_count": null,
   "metadata": {
    "collapsed": true,
    "deletable": false,
    "nbgrader": {
     "checksum": "d1a2b114443012e3af0602ab4dd425cf",
     "grade": true,
     "grade_id": "process-test-returntype",
     "locked": true,
     "points": 1,
     "solution": false
    }
   },
   "outputs": [],
   "source": [
    "zydeco = process('zydeco.txt')\n",
    "assert type(zydeco) == list"
   ]
  },
  {
   "cell_type": "code",
   "execution_count": null,
   "metadata": {
    "collapsed": true,
    "deletable": false,
    "nbgrader": {
     "checksum": "5e1037cd021ec7187e47eb4033893ea6",
     "grade": true,
     "grade_id": "process-test-returnvalues",
     "locked": true,
     "points": 1,
     "solution": false
    }
   },
   "outputs": [],
   "source": [
    "zydeco = process('zydeco.txt')\n",
    "assert zydeco[0] == ('Chavis', 'Boozoo', 'Zydeco')\n",
    "assert zydeco[-3] == ('Dopsy', \"Rockin'\", 'Zydeco')"
   ]
  }
 ],
 "metadata": {
  "kernelspec": {
   "display_name": "Python 2",
   "language": "python",
   "name": "python2"
  },
  "language_info": {
   "codemirror_mode": {
    "name": "ipython",
    "version": 2
   },
   "file_extension": ".py",
   "mimetype": "text/x-python",
   "name": "python",
   "nbconvert_exporter": "python",
   "pygments_lexer": "ipython2",
   "version": "2.7.10"
  }
 },
 "nbformat": 4,
 "nbformat_minor": 0
}